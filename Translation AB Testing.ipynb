{
 "cells": [
  {
   "cell_type": "markdown",
   "metadata": {},
   "source": [
    "Challenge Description\n",
    "\n",
    "Company XYZ is a worldwide e-commerce site with localized versions of the site.\n",
    "\n",
    "A data scientist at XYZ noticed that Spain-based users have a much higher conversion rate than any other Spanish-speaking country. She therefore went and talked to the international team in charge of Spain And LatAm to see if they had any ideas about why that was happening.\n",
    "\n",
    "Spain and LatAm country manager suggested that one reason could be translation. All Spanish- speaking countries had the same translation of the site which was written by a Spaniard. They agreed to try a test where each country would have its one translation written by a local. \n",
    "\n",
    "That is, Argentinian users would see a translation written by an Argentinian, Mexican users by a Mexican and so on. Obviously, nothing would change for users from Spain.\n",
    "\n",
    "After they run the test however, they are really surprised cause the test is negative. I.e., it appears that the non-localized translation was doing better!\n",
    "\n",
    "You are asked to:\n",
    "\n",
    "Confirm that the test is actually negative. That is, it appears that the old version of the site with just one translation across Spain and LatAm performs better\n",
    "\n",
    "Explain why that might be happening. Are the localized translations really worse?\n",
    "\n",
    "If you identified what was wrong, design an algorithm that would return FALSE if the same problem is happening in the future and TRUE if everything is good and the results can be trusted."
   ]
  },
  {
   "cell_type": "code",
   "execution_count": 2,
   "metadata": {},
   "outputs": [],
   "source": [
    "# import libraries\n",
    "import pandas as pd\n",
    "import numpy as np\n",
    "import matplotlib.pyplot as plt"
   ]
  },
  {
   "cell_type": "code",
   "execution_count": 5,
   "metadata": {},
   "outputs": [],
   "source": [
    "# import data\n",
    "test = pd.read_csv('./data/test_table.csv')\n",
    "user = pd.read_csv('./data/user_table.csv')"
   ]
  },
  {
   "cell_type": "code",
   "execution_count": 6,
   "metadata": {},
   "outputs": [
    {
     "data": {
      "text/html": [
       "<div>\n",
       "<style scoped>\n",
       "    .dataframe tbody tr th:only-of-type {\n",
       "        vertical-align: middle;\n",
       "    }\n",
       "\n",
       "    .dataframe tbody tr th {\n",
       "        vertical-align: top;\n",
       "    }\n",
       "\n",
       "    .dataframe thead th {\n",
       "        text-align: right;\n",
       "    }\n",
       "</style>\n",
       "<table border=\"1\" class=\"dataframe\">\n",
       "  <thead>\n",
       "    <tr style=\"text-align: right;\">\n",
       "      <th></th>\n",
       "      <th>user_id</th>\n",
       "      <th>date</th>\n",
       "      <th>source</th>\n",
       "      <th>device</th>\n",
       "      <th>browser_language</th>\n",
       "      <th>ads_channel</th>\n",
       "      <th>browser</th>\n",
       "      <th>conversion</th>\n",
       "      <th>test</th>\n",
       "    </tr>\n",
       "  </thead>\n",
       "  <tbody>\n",
       "    <tr>\n",
       "      <th>0</th>\n",
       "      <td>315281</td>\n",
       "      <td>2015-12-03</td>\n",
       "      <td>Direct</td>\n",
       "      <td>Web</td>\n",
       "      <td>ES</td>\n",
       "      <td>NaN</td>\n",
       "      <td>IE</td>\n",
       "      <td>1</td>\n",
       "      <td>0</td>\n",
       "    </tr>\n",
       "    <tr>\n",
       "      <th>1</th>\n",
       "      <td>497851</td>\n",
       "      <td>2015-12-04</td>\n",
       "      <td>Ads</td>\n",
       "      <td>Web</td>\n",
       "      <td>ES</td>\n",
       "      <td>Google</td>\n",
       "      <td>IE</td>\n",
       "      <td>0</td>\n",
       "      <td>1</td>\n",
       "    </tr>\n",
       "    <tr>\n",
       "      <th>2</th>\n",
       "      <td>848402</td>\n",
       "      <td>2015-12-04</td>\n",
       "      <td>Ads</td>\n",
       "      <td>Web</td>\n",
       "      <td>ES</td>\n",
       "      <td>Facebook</td>\n",
       "      <td>Chrome</td>\n",
       "      <td>0</td>\n",
       "      <td>0</td>\n",
       "    </tr>\n",
       "    <tr>\n",
       "      <th>3</th>\n",
       "      <td>290051</td>\n",
       "      <td>2015-12-03</td>\n",
       "      <td>Ads</td>\n",
       "      <td>Mobile</td>\n",
       "      <td>Other</td>\n",
       "      <td>Facebook</td>\n",
       "      <td>Android_App</td>\n",
       "      <td>0</td>\n",
       "      <td>1</td>\n",
       "    </tr>\n",
       "    <tr>\n",
       "      <th>4</th>\n",
       "      <td>548435</td>\n",
       "      <td>2015-11-30</td>\n",
       "      <td>Ads</td>\n",
       "      <td>Web</td>\n",
       "      <td>ES</td>\n",
       "      <td>Google</td>\n",
       "      <td>FireFox</td>\n",
       "      <td>0</td>\n",
       "      <td>1</td>\n",
       "    </tr>\n",
       "  </tbody>\n",
       "</table>\n",
       "</div>"
      ],
      "text/plain": [
       "   user_id        date  source  device browser_language ads_channel  \\\n",
       "0   315281  2015-12-03  Direct     Web               ES         NaN   \n",
       "1   497851  2015-12-04     Ads     Web               ES      Google   \n",
       "2   848402  2015-12-04     Ads     Web               ES    Facebook   \n",
       "3   290051  2015-12-03     Ads  Mobile            Other    Facebook   \n",
       "4   548435  2015-11-30     Ads     Web               ES      Google   \n",
       "\n",
       "       browser  conversion  test  \n",
       "0           IE           1     0  \n",
       "1           IE           0     1  \n",
       "2       Chrome           0     0  \n",
       "3  Android_App           0     1  \n",
       "4      FireFox           0     1  "
      ]
     },
     "execution_count": 6,
     "metadata": {},
     "output_type": "execute_result"
    }
   ],
   "source": [
    "# preview data\n",
    "test.head()"
   ]
  },
  {
   "cell_type": "code",
   "execution_count": 11,
   "metadata": {},
   "outputs": [
    {
     "data": {
      "text/html": [
       "<div>\n",
       "<style scoped>\n",
       "    .dataframe tbody tr th:only-of-type {\n",
       "        vertical-align: middle;\n",
       "    }\n",
       "\n",
       "    .dataframe tbody tr th {\n",
       "        vertical-align: top;\n",
       "    }\n",
       "\n",
       "    .dataframe thead th {\n",
       "        text-align: right;\n",
       "    }\n",
       "</style>\n",
       "<table border=\"1\" class=\"dataframe\">\n",
       "  <thead>\n",
       "    <tr style=\"text-align: right;\">\n",
       "      <th></th>\n",
       "      <th>user_id</th>\n",
       "      <th>sex</th>\n",
       "      <th>age</th>\n",
       "      <th>country</th>\n",
       "    </tr>\n",
       "  </thead>\n",
       "  <tbody>\n",
       "    <tr>\n",
       "      <th>0</th>\n",
       "      <td>765821</td>\n",
       "      <td>M</td>\n",
       "      <td>20</td>\n",
       "      <td>Mexico</td>\n",
       "    </tr>\n",
       "    <tr>\n",
       "      <th>1</th>\n",
       "      <td>343561</td>\n",
       "      <td>F</td>\n",
       "      <td>27</td>\n",
       "      <td>Nicaragua</td>\n",
       "    </tr>\n",
       "    <tr>\n",
       "      <th>2</th>\n",
       "      <td>118744</td>\n",
       "      <td>M</td>\n",
       "      <td>23</td>\n",
       "      <td>Colombia</td>\n",
       "    </tr>\n",
       "    <tr>\n",
       "      <th>3</th>\n",
       "      <td>987753</td>\n",
       "      <td>F</td>\n",
       "      <td>27</td>\n",
       "      <td>Venezuela</td>\n",
       "    </tr>\n",
       "    <tr>\n",
       "      <th>4</th>\n",
       "      <td>554597</td>\n",
       "      <td>F</td>\n",
       "      <td>20</td>\n",
       "      <td>Spain</td>\n",
       "    </tr>\n",
       "  </tbody>\n",
       "</table>\n",
       "</div>"
      ],
      "text/plain": [
       "   user_id sex  age    country\n",
       "0   765821   M   20     Mexico\n",
       "1   343561   F   27  Nicaragua\n",
       "2   118744   M   23   Colombia\n",
       "3   987753   F   27  Venezuela\n",
       "4   554597   F   20      Spain"
      ]
     },
     "execution_count": 11,
     "metadata": {},
     "output_type": "execute_result"
    }
   ],
   "source": [
    "# preview data\n",
    "user.head()"
   ]
  },
  {
   "cell_type": "code",
   "execution_count": 13,
   "metadata": {},
   "outputs": [
    {
     "name": "stdout",
     "output_type": "stream",
     "text": [
      "(453321, 9)\n",
      "(452867, 4)\n"
     ]
    }
   ],
   "source": [
    "# data size\n",
    "print(test.shape)\n",
    "print(user.shape)"
   ]
  },
  {
   "cell_type": "code",
   "execution_count": 202,
   "metadata": {},
   "outputs": [],
   "source": [
    "# merge data\n",
    "test = pd.merge(test,  user, left_on='user_id', right_on='user_id')"
   ]
  },
  {
   "cell_type": "code",
   "execution_count": 203,
   "metadata": {},
   "outputs": [
    {
     "data": {
      "text/plain": [
       "(452867, 12)"
      ]
     },
     "execution_count": 203,
     "metadata": {},
     "output_type": "execute_result"
    }
   ],
   "source": [
    "#  merged data size\n",
    "test.shape"
   ]
  },
  {
   "cell_type": "markdown",
   "metadata": {},
   "source": [
    "# Basic Data Exploration"
   ]
  },
  {
   "cell_type": "code",
   "execution_count": 10,
   "metadata": {},
   "outputs": [
    {
     "data": {
      "text/plain": [
       "{'2015-11-30', '2015-12-01', '2015-12-02', '2015-12-03', '2015-12-04'}"
      ]
     },
     "execution_count": 10,
     "metadata": {},
     "output_type": "execute_result"
    }
   ],
   "source": [
    "# Date Range: 5 days 2015/11/30 - 2015/12/4\n",
    "(set(test['date']))"
   ]
  },
  {
   "cell_type": "code",
   "execution_count": 16,
   "metadata": {},
   "outputs": [
    {
     "name": "stdout",
     "output_type": "stream",
     "text": [
      "453321\n",
      "452867\n"
     ]
    }
   ],
   "source": [
    "# Number of unique users - test has slightly more users than users, all users are unique\n",
    "print(len(set(test.user_id)))\n",
    "print(len(set(user.user_id)))"
   ]
  },
  {
   "cell_type": "code",
   "execution_count": 19,
   "metadata": {},
   "outputs": [
    {
     "name": "stdout",
     "output_type": "stream",
     "text": [
      "{'Ads', 'SEO', 'Direct'}\n"
     ]
    }
   ],
   "source": [
    "# Number of Source (marketing channels) : Ads, SEO, Direct\n",
    "print((set(test.source)))"
   ]
  },
  {
   "cell_type": "code",
   "execution_count": 20,
   "metadata": {},
   "outputs": [
    {
     "name": "stdout",
     "output_type": "stream",
     "text": [
      "{'Mobile', 'Web'}\n"
     ]
    }
   ],
   "source": [
    "# Type of Device\n",
    "print(set(test.device))"
   ]
  },
  {
   "cell_type": "code",
   "execution_count": 21,
   "metadata": {},
   "outputs": [
    {
     "name": "stdout",
     "output_type": "stream",
     "text": [
      "{'EN', 'ES', 'Other'}\n"
     ]
    }
   ],
   "source": [
    "# Type of Browswer Language\n",
    "print(set(test.browser_language))"
   ]
  },
  {
   "cell_type": "code",
   "execution_count": 22,
   "metadata": {},
   "outputs": [
    {
     "name": "stdout",
     "output_type": "stream",
     "text": [
      "{nan, 'Other', 'Bing', 'Yahoo', 'Facebook', 'Google'}\n"
     ]
    }
   ],
   "source": [
    "# Type of Ads Channel\n",
    "print(set(test.ads_channel))"
   ]
  },
  {
   "cell_type": "code",
   "execution_count": 23,
   "metadata": {},
   "outputs": [
    {
     "name": "stdout",
     "output_type": "stream",
     "text": [
      "{'Chrome', 'IE', 'Iphone_App', 'Opera', 'Android_App', 'Safari', 'FireFox'}\n"
     ]
    }
   ],
   "source": [
    "# Type of Browser\n",
    "print(set(test.browser))"
   ]
  },
  {
   "cell_type": "code",
   "execution_count": 28,
   "metadata": {},
   "outputs": [
    {
     "name": "stdout",
     "output_type": "stream",
     "text": [
      "count    452867.000000\n",
      "mean         27.130740\n",
      "std           6.776678\n",
      "min          18.000000\n",
      "25%          22.000000\n",
      "50%          26.000000\n",
      "75%          31.000000\n",
      "max          70.000000\n",
      "Name: age, dtype: float64\n"
     ]
    }
   ],
   "source": [
    "# User age range - from 18 to 70 years old, 75% of the users are below 31 years old\n",
    "print((user.age).describe())"
   ]
  },
  {
   "cell_type": "code",
   "execution_count": 49,
   "metadata": {},
   "outputs": [
    {
     "data": {
      "text/plain": [
       "array([[18.],\n",
       "       [19.],\n",
       "       [21.],\n",
       "       [23.],\n",
       "       [24.],\n",
       "       [26.],\n",
       "       [28.],\n",
       "       [30.],\n",
       "       [33.],\n",
       "       [37.],\n",
       "       [70.]])"
      ]
     },
     "execution_count": 49,
     "metadata": {},
     "output_type": "execute_result"
    }
   ],
   "source": [
    "# 90% of the users are below age of 37\n",
    "np.percentile(user.age,list(range(0,101,10)), keepdims=True)"
   ]
  },
  {
   "cell_type": "code",
   "execution_count": 51,
   "metadata": {},
   "outputs": [
    {
     "name": "stdout",
     "output_type": "stream",
     "text": [
      "17\n"
     ]
    }
   ],
   "source": [
    "# number of country of users - 17\n",
    "print(len(set(user.country)))"
   ]
  },
  {
   "cell_type": "code",
   "execution_count": 214,
   "metadata": {},
   "outputs": [
    {
     "data": {
      "text/plain": [
       "date        test\n",
       "2015-11-30  0       37104\n",
       "            1       33844\n",
       "2015-12-01  0       37075\n",
       "            1       33840\n",
       "2015-12-02  0       37064\n",
       "            1       33517\n",
       "2015-12-03  0       52016\n",
       "            1       47383\n",
       "2015-12-04  0       73834\n",
       "            1       67190\n",
       "Name: user_id, dtype: int64"
      ]
     },
     "execution_count": 214,
     "metadata": {},
     "output_type": "execute_result"
    }
   ],
   "source": [
    "# number of user in control and experimental group - roughly close\n",
    "test.groupby(['date','test']).count()['user_id']"
   ]
  },
  {
   "cell_type": "markdown",
   "metadata": {},
   "source": [
    "# Further Exploration"
   ]
  },
  {
   "cell_type": "code",
   "execution_count": 124,
   "metadata": {},
   "outputs": [
    {
     "data": {
      "text/plain": [
       "test  conversion\n",
       "0     0             224242\n",
       "      1              13096\n",
       "1     0             206604\n",
       "      1               9379\n",
       "Name: user_id, dtype: int64"
      ]
     },
     "execution_count": 124,
     "metadata": {},
     "output_type": "execute_result"
    }
   ],
   "source": [
    "# Overall CVR\n",
    "test.groupby(['test','conversion']).count()['user_id']"
   ]
  },
  {
   "cell_type": "code",
   "execution_count": 127,
   "metadata": {},
   "outputs": [
    {
     "name": "stdout",
     "output_type": "stream",
     "text": [
      "cvr for control group :0.05541450864899631\n",
      "cvr for expermential group :0.043424713982118966\n"
     ]
    }
   ],
   "source": [
    "# CVR\n",
    "print('cvr for control group :' + str(13096/(13096+223232)))\n",
    "print('cvr for expermential group :' + str(9379/(9379+206604)))"
   ]
  },
  {
   "cell_type": "markdown",
   "metadata": {},
   "source": [
    "It seems like CVR for control group is higher. Lets dig deeper."
   ]
  },
  {
   "cell_type": "code",
   "execution_count": 204,
   "metadata": {},
   "outputs": [
    {
     "data": {
      "text/plain": [
       "([<matplotlib.axis.XTick at 0x112b99b70>,\n",
       "  <matplotlib.axis.XTick at 0x112b994a8>,\n",
       "  <matplotlib.axis.XTick at 0x112bbabe0>,\n",
       "  <matplotlib.axis.XTick at 0x111946a90>,\n",
       "  <matplotlib.axis.XTick at 0x11194d208>],\n",
       " <a list of 5 Text xticklabel objects>)"
      ]
     },
     "execution_count": 204,
     "metadata": {},
     "output_type": "execute_result"
    },
    {
     "data": {
      "image/png": "[encoded data removed]",
      "text/plain": [
       "<Figure size 432x288 with 1 Axes>"
      ]
     },
     "metadata": {},
     "output_type": "display_data"
    }
   ],
   "source": [
    "# CVR by date between control and experimental group\n",
    "# control\n",
    "a = pd.DataFrame(test[test['test']==0].groupby(['date','conversion']).count()['user_id'])\n",
    "b = a[a.index.labels[1]==0]\n",
    "\n",
    "c = pd.DataFrame(test[test['test']==0].groupby(['date','conversion']).count()['user_id'])\n",
    "d = a[c.index.labels[1]==1]\n",
    "\n",
    "e =  [list(d.user_id)[i] / (list(b.user_id)[i] + list(d.user_id)[i]) for i in range(0,len(d))]\n",
    "e = pd.DataFrame(e, columns=['date'])\n",
    "\n",
    "# experimental\n",
    "a = pd.DataFrame(test[test['test']==1].groupby(['date','conversion']).count()['user_id'])\n",
    "b = a[a.index.labels[1]==0]\n",
    "\n",
    "c = pd.DataFrame(test[test['test']==1].groupby(['date','conversion']).count()['user_id'])\n",
    "d = a[c.index.labels[1]==1]\n",
    "\n",
    "ee =  [list(d.user_id)[i] / (list(b.user_id)[i] + list(d.user_id)[i]) for i in range(0,len(d))]\n",
    "f = pd.DataFrame(ee, columns=['date'])\n",
    "\n",
    "g = pd.concat([e,f], axis=1)\n",
    "g.columns  = ['control','test']\n",
    "\n",
    "\n",
    "g.plot.bar()\n",
    "plt.xticks([0,1,2,3,4],list(set(test.date)), rotation = 0)"
   ]
  },
  {
   "cell_type": "markdown",
   "metadata": {},
   "source": [
    "There is not anything special on cvr among dates"
   ]
  },
  {
   "cell_type": "code",
   "execution_count": 226,
   "metadata": {},
   "outputs": [
    {
     "data": {
      "text/plain": [
       "([<matplotlib.axis.XTick at 0x11291bba8>,\n",
       "  <matplotlib.axis.XTick at 0x11291b4e0>,\n",
       "  <matplotlib.axis.XTick at 0x112939c88>],\n",
       " <a list of 3 Text xticklabel objects>)"
      ]
     },
     "execution_count": 226,
     "metadata": {},
     "output_type": "execute_result"
    },
    {
     "data": {
      "image/png": "[encoded data removed]",
      "text/plain": [
       "<Figure size 432x288 with 1 Axes>"
      ]
     },
     "metadata": {},
     "output_type": "display_data"
    }
   ],
   "source": [
    "# browser language - highest cvr in each language and test group\n",
    "# control\n",
    "a = test[test['test'] == 0].groupby(['browser_language','conversion']).count()['user_id']\n",
    "b = list(a[a.index.labels[1]==0]) # didn't convert\n",
    "c = list(a[a.index.labels[1]==1]) # converted\n",
    "d = ['EN','ES','Other']\n",
    "e = pd.DataFrame([c[i] / (b[i]+c[i]) for i in range(0,len(b))],columns=['CVR'])\n",
    "\n",
    "# experimental\n",
    "a = test[test['test'] == 1].groupby(['browser_language','conversion']).count()['user_id']\n",
    "b = list(a[a.index.labels[1]==0]) # didn't convert\n",
    "c = list(a[a.index.labels[1]==1]) # converted\n",
    "f = pd.DataFrame([c[i] / (b[i]+c[i]) for i in range(0,len(b))])\n",
    "\n",
    "g = pd.concat([e,f], axis=1)\n",
    "g.columns  = ['control','experimental']\n",
    "\n",
    "g.plot.bar()\n",
    "plt.xticks([0,1,2],d, rotation = 0)"
   ]
  },
  {
   "cell_type": "markdown",
   "metadata": {},
   "source": [
    "There isn't anything special in cvr among different browser language."
   ]
  },
  {
   "cell_type": "code",
   "execution_count": 227,
   "metadata": {},
   "outputs": [
    {
     "data": {
      "text/plain": [
       "([<matplotlib.axis.XTick at 0x114ded160>,\n",
       "  <matplotlib.axis.XTick at 0x114deaa58>,\n",
       "  <matplotlib.axis.XTick at 0x114e0a208>],\n",
       " <a list of 3 Text xticklabel objects>)"
      ]
     },
     "execution_count": 227,
     "metadata": {},
     "output_type": "execute_result"
    },
    {
     "data": {
      "image/png": "[encoded data removed]",
      "text/plain": [
       "<Figure size 432x288 with 1 Axes>"
      ]
     },
     "metadata": {},
     "output_type": "display_data"
    }
   ],
   "source": [
    "# Source (Marketing Channel) \n",
    "# control\n",
    "a = test[test['test'] == 0].groupby(['source','conversion']).count()['user_id']\n",
    "b = list(a[a.index.labels[1]==0]) # didn't convert\n",
    "c = list(a[a.index.labels[1]==1]) # converted\n",
    "d = ['Ads', 'SEO', 'Direct']\n",
    "e = pd.DataFrame([c[i] / (b[i]+c[i]) for i in range(0,len(b))],columns=['CVR'])\n",
    "\n",
    "# experimental\n",
    "a = test[test['test'] == 1].groupby(['source','conversion']).count()['user_id']\n",
    "b = list(a[a.index.labels[1]==0]) # didn't convert\n",
    "c = list(a[a.index.labels[1]==1]) # converted\n",
    "f = pd.DataFrame([c[i] / (b[i]+c[i]) for i in range(0,len(b))])\n",
    "\n",
    "g = pd.concat([e,f], axis=1)\n",
    "g.columns  = ['control','experimental']\n",
    "\n",
    "g.plot.bar()\n",
    "plt.xticks([0,1,2],d, rotation = 0)"
   ]
  },
  {
   "cell_type": "markdown",
   "metadata": {},
   "source": [
    "There isn't anything significant on cvr among  marketing channels."
   ]
  },
  {
   "cell_type": "code",
   "execution_count": 241,
   "metadata": {},
   "outputs": [
    {
     "data": {
      "text/plain": [
       "([<matplotlib.axis.XTick at 0x1125d8898>,\n",
       "  <matplotlib.axis.XTick at 0x1125d81d0>],\n",
       " <a list of 2 Text xticklabel objects>)"
      ]
     },
     "execution_count": 241,
     "metadata": {},
     "output_type": "execute_result"
    },
    {
     "data": {
      "image/png": "[encoded data removed]",
      "text/plain": [
       "<Figure size 432x288 with 1 Axes>"
      ]
     },
     "metadata": {},
     "output_type": "display_data"
    }
   ],
   "source": [
    "# Source (Marketing Channel) \n",
    "# control\n",
    "a = test[test['test'] == 0].groupby(['device','conversion']).count()['user_id']\n",
    "b = list(a[a.index.labels[1]==0]) # didn't convert\n",
    "c = list(a[a.index.labels[1]==1]) # converted\n",
    "d = ['Mobile', 'Web']\n",
    "e = pd.DataFrame([c[i] / (b[i]+c[i]) for i in range(0,len(b))],columns=['CVR'])\n",
    "\n",
    "# experimental\n",
    "a = test[test['test'] == 1].groupby(['device','conversion']).count()['user_id']\n",
    "b = list(a[a.index.labels[1]==0]) # didn't convert\n",
    "c = list(a[a.index.labels[1]==1]) # converted\n",
    "f = pd.DataFrame([c[i] / (b[i]+c[i]) for i in range(0,len(b))])\n",
    "\n",
    "g = pd.concat([e,f], axis=1)\n",
    "g.columns  = ['control','experimental']\n",
    "\n",
    "g.plot.bar()\n",
    "plt.xticks([0,1],d, rotation = 0)"
   ]
  },
  {
   "cell_type": "code",
   "execution_count": 495,
   "metadata": {},
   "outputs": [
    {
     "data": {
      "text/plain": [
       "([<matplotlib.axis.XTick at 0x12a9e1550>,\n",
       "  <matplotlib.axis.XTick at 0x12a9dfe48>],\n",
       " <a list of 2 Text xticklabel objects>)"
      ]
     },
     "execution_count": 495,
     "metadata": {},
     "output_type": "execute_result"
    },
    {
     "data": {
      "image/png": "[encoded data removed]",
      "text/plain": [
       "<Figure size 432x288 with 1 Axes>"
      ]
     },
     "metadata": {},
     "output_type": "display_data"
    }
   ],
   "source": [
    "# Source (Marketing Channel) \n",
    "# control\n",
    "a = test[test['test'] == 0].groupby(['sex','conversion']).count()['user_id']\n",
    "b = list(a[a.index.labels[1]==0]) # didn't convert\n",
    "c = list(a[a.index.labels[1]==1]) # converted\n",
    "d = ['F', 'M']\n",
    "e = pd.DataFrame([c[i] / (b[i]+c[i]) for i in range(0,len(b))],columns=['CVR'])\n",
    "\n",
    "# experimental\n",
    "a = test[test['test'] == 1].groupby(['sex','conversion']).count()['user_id']\n",
    "b = list(a[a.index.labels[1]==0]) # didn't convert\n",
    "c = list(a[a.index.labels[1]==1]) # converted\n",
    "f = pd.DataFrame([c[i] / (b[i]+c[i]) for i in range(0,len(b))])\n",
    "\n",
    "g = pd.concat([e,f], axis=1)\n",
    "g.columns  = ['control','experimental']\n",
    "\n",
    "g.plot.bar()\n",
    "plt.xticks([0,1],d, rotation = 0)"
   ]
  },
  {
   "cell_type": "markdown",
   "metadata": {},
   "source": [
    "Again, control results  in a higher cvr."
   ]
  },
  {
   "cell_type": "code",
   "execution_count": 245,
   "metadata": {},
   "outputs": [
    {
     "data": {
      "text/plain": [
       "([<matplotlib.axis.XTick at 0x112aff0b8>,\n",
       "  <matplotlib.axis.XTick at 0x111f382b0>,\n",
       "  <matplotlib.axis.XTick at 0x114be7eb8>,\n",
       "  <matplotlib.axis.XTick at 0x114c04d30>,\n",
       "  <matplotlib.axis.XTick at 0x114c0e4e0>],\n",
       " <a list of 5 Text xticklabel objects>)"
      ]
     },
     "execution_count": 245,
     "metadata": {},
     "output_type": "execute_result"
    },
    {
     "data": {
      "image/png": "[encoded data removed]",
      "text/plain": [
       "<Figure size 432x288 with 1 Axes>"
      ]
     },
     "metadata": {},
     "output_type": "display_data"
    }
   ],
   "source": [
    "# Ads Channel\n",
    "# control\n",
    "a = test[test['test'] == 0].groupby(['ads_channel','conversion']).count()['user_id']\n",
    "b = list(a[a.index.labels[1]==0]) # didn't convert\n",
    "c = list(a[a.index.labels[1]==1]) # converted\n",
    "d = ['Bing','Facebook','Google','Other','Yahoo']\n",
    "e = pd.DataFrame([c[i] / (b[i]+c[i]) for i in range(0,len(b))],columns=['CVR'])\n",
    "\n",
    "# experimental\n",
    "a = test[test['test'] == 1].groupby(['ads_channel','conversion']).count()['user_id']\n",
    "b = list(a[a.index.labels[1]==0]) # didn't convert\n",
    "c = list(a[a.index.labels[1]==1]) # converted\n",
    "f = pd.DataFrame([c[i] / (b[i]+c[i]) for i in range(0,len(b))])\n",
    "\n",
    "g = pd.concat([e,f], axis=1)\n",
    "g.columns  = ['control','experimental']\n",
    "\n",
    "g.plot.bar()\n",
    "plt.xticks([0,1,2,3,4],d, rotation = 0)"
   ]
  },
  {
   "cell_type": "markdown",
   "metadata": {},
   "source": [
    "Although control results in higher CVR than experimental, Yahoo has a relatively higher cvr among the  other ads channels."
   ]
  },
  {
   "cell_type": "code",
   "execution_count": 392,
   "metadata": {},
   "outputs": [
    {
     "data": {
      "text/plain": [
       "([<matplotlib.axis.XTick at 0x130296b70>,\n",
       "  <matplotlib.axis.XTick at 0x1302964a8>,\n",
       "  <matplotlib.axis.XTick at 0x1302a7c50>,\n",
       "  <matplotlib.axis.XTick at 0x1302ca940>,\n",
       "  <matplotlib.axis.XTick at 0x1302d2128>,\n",
       "  <matplotlib.axis.XTick at 0x1302d25c0>,\n",
       "  <matplotlib.axis.XTick at 0x1302d2ac8>],\n",
       " <a list of 7 Text xticklabel objects>)"
      ]
     },
     "execution_count": 392,
     "metadata": {},
     "output_type": "execute_result"
    },
    {
     "data": {
      "image/png": "[encoded data removed]",
      "text/plain": [
       "<Figure size 432x288 with 1 Axes>"
      ]
     },
     "metadata": {},
     "output_type": "display_data"
    }
   ],
   "source": [
    "# Browser\n",
    "# control\n",
    "a = test[test['test'] == 0].groupby(['browser','conversion']).count()['user_id']\n",
    "b = list(a[a.index.labels[1]==0]) # didn't convert\n",
    "c = list(a[a.index.labels[1]==1]) # converted\n",
    "d = ['Andorid','Chrome','FireFox','IE','iphone','Opera','Safari']\n",
    "e = pd.DataFrame([c[i] / (b[i]+c[i]) for i in range(0,len(b))],columns=['CVR'])\n",
    "\n",
    "# experimental\n",
    "a = test[test['test'] == 1].groupby(['browser','conversion']).count()['user_id']\n",
    "b = list(a[a.index.labels[1]==0]) # didn't convert\n",
    "c = list(a[a.index.labels[1]==1]) # converted\n",
    "f = pd.DataFrame([c[i] / (b[i]+c[i]) for i in range(0,len(b))])\n",
    "\n",
    "g = pd.concat([e,f], axis=1)\n",
    "g.columns  = ['control','experimental']\n",
    "\n",
    "g.plot.bar()\n",
    "plt.xticks([0,1,2,3,4,5,6],d, rotation = 0)"
   ]
  },
  {
   "cell_type": "markdown",
   "metadata": {},
   "source": [
    "Control group continues to perform better than experimental. However, iPhone and Opera browser result in a significant higher cvr as compared to the other browser types."
   ]
  },
  {
   "cell_type": "code",
   "execution_count": 394,
   "metadata": {},
   "outputs": [
    {
     "name": "stderr",
     "output_type": "stream",
     "text": [
      "/Users/wx3land/anaconda3/lib/python3.6/site-packages/IPython/core/interactiveshell.py:2963: FutureWarning: 'age' is both an index level and a column label.\n",
      "Defaulting to column, but this will raise an ambiguity error in a future version\n",
      "  exec(code_obj, self.user_global_ns, self.user_ns)\n"
     ]
    },
    {
     "data": {
      "text/plain": [
       "([<matplotlib.axis.XTick at 0x130318128>,\n",
       "  <matplotlib.axis.XTick at 0x130315a20>,\n",
       "  <matplotlib.axis.XTick at 0x133220e48>,\n",
       "  <matplotlib.axis.XTick at 0x124d4fa58>,\n",
       "  <matplotlib.axis.XTick at 0x124d581d0>,\n",
       "  <matplotlib.axis.XTick at 0x124d586d8>,\n",
       "  <matplotlib.axis.XTick at 0x124d58be0>,\n",
       "  <matplotlib.axis.XTick at 0x124d5f160>,\n",
       "  <matplotlib.axis.XTick at 0x130315908>,\n",
       "  <matplotlib.axis.XTick at 0x124d6e860>,\n",
       "  <matplotlib.axis.XTick at 0x124d6ed30>,\n",
       "  <matplotlib.axis.XTick at 0x124d74278>,\n",
       "  <matplotlib.axis.XTick at 0x124d74780>,\n",
       "  <matplotlib.axis.XTick at 0x124d6e668>,\n",
       "  <matplotlib.axis.XTick at 0x124d4f9b0>,\n",
       "  <matplotlib.axis.XTick at 0x124d74940>,\n",
       "  <matplotlib.axis.XTick at 0x124d74588>,\n",
       "  <matplotlib.axis.XTick at 0x124d7c518>,\n",
       "  <matplotlib.axis.XTick at 0x124d7ca20>,\n",
       "  <matplotlib.axis.XTick at 0x124d7cf28>,\n",
       "  <matplotlib.axis.XTick at 0x124d84470>,\n",
       "  <matplotlib.axis.XTick at 0x124d84978>,\n",
       "  <matplotlib.axis.XTick at 0x124d84e80>,\n",
       "  <matplotlib.axis.XTick at 0x124d84a58>,\n",
       "  <matplotlib.axis.XTick at 0x124d7c4e0>,\n",
       "  <matplotlib.axis.XTick at 0x124d8b278>,\n",
       "  <matplotlib.axis.XTick at 0x124d8b710>,\n",
       "  <matplotlib.axis.XTick at 0x124d8bc18>,\n",
       "  <matplotlib.axis.XTick at 0x124d94198>,\n",
       "  <matplotlib.axis.XTick at 0x124d94668>,\n",
       "  <matplotlib.axis.XTick at 0x124d94b70>,\n",
       "  <matplotlib.axis.XTick at 0x124d9d128>,\n",
       "  <matplotlib.axis.XTick at 0x124d94748>,\n",
       "  <matplotlib.axis.XTick at 0x124d8ba20>,\n",
       "  <matplotlib.axis.XTick at 0x124d8b2e8>,\n",
       "  <matplotlib.axis.XTick at 0x124d9d978>,\n",
       "  <matplotlib.axis.XTick at 0x124d9de80>,\n",
       "  <matplotlib.axis.XTick at 0x124da53c8>,\n",
       "  <matplotlib.axis.XTick at 0x124da58d0>,\n",
       "  <matplotlib.axis.XTick at 0x124da5dd8>,\n",
       "  <matplotlib.axis.XTick at 0x124dad320>,\n",
       "  <matplotlib.axis.XTick at 0x124dad828>,\n",
       "  <matplotlib.axis.XTick at 0x124da59b0>,\n",
       "  <matplotlib.axis.XTick at 0x124d84c88>,\n",
       "  <matplotlib.axis.XTick at 0x124dad198>,\n",
       "  <matplotlib.axis.XTick at 0x124db6128>,\n",
       "  <matplotlib.axis.XTick at 0x124db65c0>,\n",
       "  <matplotlib.axis.XTick at 0x124db6ac8>,\n",
       "  <matplotlib.axis.XTick at 0x124db6cf8>,\n",
       "  <matplotlib.axis.XTick at 0x124dbe518>,\n",
       "  <matplotlib.axis.XTick at 0x124dbea20>,\n",
       "  <matplotlib.axis.XTick at 0x124dbef28>],\n",
       " <a list of 52 Text xticklabel objects>)"
      ]
     },
     "execution_count": 394,
     "metadata": {},
     "output_type": "execute_result"
    },
    {
     "data": {
      "image/png": "[encoded data removed]",
      "text/plain": [
       "<Figure size 936x720 with 1 Axes>"
      ]
     },
     "metadata": {},
     "output_type": "display_data"
    }
   ],
   "source": [
    "# age\n",
    "# control\n",
    "a = test[test['test'] == 0].groupby(['age','conversion']).count()['user_id']\n",
    "b = pd.DataFrame(a[a.index.labels[1]==0]) # didn't convert\n",
    "b['age'] = b.index.levels[0]\n",
    "c = pd.DataFrame(a[a.index.labels[1]==1]) # converted\n",
    "c['age'] = [c.index.values[i][0] for i in range(0, c.shape[0])]\n",
    "d = pd.merge(b,c,left_on='age',right_on='age', how='outer')\n",
    "d.columns = ['no_purchase','age','purchase']\n",
    "d['cvr'] = d.purchase/(d.purchase+d.no_purchase)\n",
    "\n",
    "# experimental\n",
    "a = test[test['test'] == 1].groupby(['age','conversion']).count()['user_id']\n",
    "b = pd.DataFrame(a[a.index.labels[1]==0]) # didn't convert\n",
    "b['age'] = b.index.levels[0]\n",
    "c = pd.DataFrame(a[a.index.labels[1]==1]) # converted\n",
    "c['age'] = [c.index.values[i][0] for i in range(0, c.shape[0])]\n",
    "dd = pd.merge(b,c,left_on='age',right_on='age', how='outer')\n",
    "dd.columns = ['no_purchase','age','purchase']\n",
    "dd['cvr'] = dd.purchase/(dd.purchase+dd.no_purchase)\n",
    "\n",
    "e = pd.merge(d[['age','cvr']],dd[['age','cvr']], left_on='age',right_on='age', how='outer')\n",
    "\n",
    "e[['cvr_x','cvr_y']].plot.bar(figsize=(13,10))\n",
    "plt.xticks(np.arange(0, len(e.age)), e.age)"
   ]
  },
  {
   "cell_type": "markdown",
   "metadata": {},
   "source": [
    "The figure above shows the relation among age, test group, and conversion. As shown, the conversion rate of control group is much higher in the younger users while the conversionr ate of the experimental group increases as the age of the users increases. This suggests the experimental group is more attractive to the older generations. This can due to the translator or the use of language such that the language can be 'too formal' or 'old fashion'.\n",
    "\n",
    "There exists a cut off age at around 45 years old.\n",
    "\n",
    "To further analyze the relation between age and experimental group, lets investigate the different countries. "
   ]
  },
  {
   "cell_type": "code",
   "execution_count": 415,
   "metadata": {},
   "outputs": [
    {
     "data": {
      "text/html": [
       "<div>\n",
       "<style scoped>\n",
       "    .dataframe tbody tr th:only-of-type {\n",
       "        vertical-align: middle;\n",
       "    }\n",
       "\n",
       "    .dataframe tbody tr th {\n",
       "        vertical-align: top;\n",
       "    }\n",
       "\n",
       "    .dataframe thead th {\n",
       "        text-align: right;\n",
       "    }\n",
       "</style>\n",
       "<table border=\"1\" class=\"dataframe\">\n",
       "  <thead>\n",
       "    <tr style=\"text-align: right;\">\n",
       "      <th></th>\n",
       "      <th>user_id</th>\n",
       "    </tr>\n",
       "    <tr>\n",
       "      <th>country</th>\n",
       "      <th></th>\n",
       "    </tr>\n",
       "  </thead>\n",
       "  <tbody>\n",
       "    <tr>\n",
       "      <th>Mexico</th>\n",
       "      <td>128484</td>\n",
       "    </tr>\n",
       "    <tr>\n",
       "      <th>Colombia</th>\n",
       "      <td>54060</td>\n",
       "    </tr>\n",
       "    <tr>\n",
       "      <th>Spain</th>\n",
       "      <td>51782</td>\n",
       "    </tr>\n",
       "    <tr>\n",
       "      <th>Argentina</th>\n",
       "      <td>46733</td>\n",
       "    </tr>\n",
       "    <tr>\n",
       "      <th>Peru</th>\n",
       "      <td>33666</td>\n",
       "    </tr>\n",
       "    <tr>\n",
       "      <th>Venezuela</th>\n",
       "      <td>32054</td>\n",
       "    </tr>\n",
       "    <tr>\n",
       "      <th>Chile</th>\n",
       "      <td>19737</td>\n",
       "    </tr>\n",
       "    <tr>\n",
       "      <th>Ecuador</th>\n",
       "      <td>15895</td>\n",
       "    </tr>\n",
       "    <tr>\n",
       "      <th>Guatemala</th>\n",
       "      <td>15125</td>\n",
       "    </tr>\n",
       "    <tr>\n",
       "      <th>Bolivia</th>\n",
       "      <td>11124</td>\n",
       "    </tr>\n",
       "    <tr>\n",
       "      <th>Honduras</th>\n",
       "      <td>8568</td>\n",
       "    </tr>\n",
       "    <tr>\n",
       "      <th>El Salvador</th>\n",
       "      <td>8175</td>\n",
       "    </tr>\n",
       "    <tr>\n",
       "      <th>Paraguay</th>\n",
       "      <td>7347</td>\n",
       "    </tr>\n",
       "    <tr>\n",
       "      <th>Nicaragua</th>\n",
       "      <td>6723</td>\n",
       "    </tr>\n",
       "    <tr>\n",
       "      <th>Costa Rica</th>\n",
       "      <td>5309</td>\n",
       "    </tr>\n",
       "    <tr>\n",
       "      <th>Uruguay</th>\n",
       "      <td>4134</td>\n",
       "    </tr>\n",
       "    <tr>\n",
       "      <th>Panama</th>\n",
       "      <td>3951</td>\n",
       "    </tr>\n",
       "  </tbody>\n",
       "</table>\n",
       "</div>"
      ],
      "text/plain": [
       "             user_id\n",
       "country             \n",
       "Mexico        128484\n",
       "Colombia       54060\n",
       "Spain          51782\n",
       "Argentina      46733\n",
       "Peru           33666\n",
       "Venezuela      32054\n",
       "Chile          19737\n",
       "Ecuador        15895\n",
       "Guatemala      15125\n",
       "Bolivia        11124\n",
       "Honduras        8568\n",
       "El Salvador     8175\n",
       "Paraguay        7347\n",
       "Nicaragua       6723\n",
       "Costa Rica      5309\n",
       "Uruguay         4134\n",
       "Panama          3951"
      ]
     },
     "execution_count": 415,
     "metadata": {},
     "output_type": "execute_result"
    }
   ],
   "source": [
    "# Countries\n",
    "\n",
    "(pd.DataFrame(test.groupby('country').count()['user_id'])).sort_values('user_id', ascending=False)"
   ]
  },
  {
   "cell_type": "code",
   "execution_count": 453,
   "metadata": {},
   "outputs": [
    {
     "data": {
      "text/plain": [
       "([<matplotlib.axis.XTick at 0x1297a05c0>,\n",
       "  <matplotlib.axis.XTick at 0x130311390>,\n",
       "  <matplotlib.axis.XTick at 0x12f9afc50>,\n",
       "  <matplotlib.axis.XTick at 0x12f58b160>,\n",
       "  <matplotlib.axis.XTick at 0x12f58b748>,\n",
       "  <matplotlib.axis.XTick at 0x12f58b978>,\n",
       "  <matplotlib.axis.XTick at 0x12f596080>,\n",
       "  <matplotlib.axis.XTick at 0x12f596668>,\n",
       "  <matplotlib.axis.XTick at 0x12f596da0>,\n",
       "  <matplotlib.axis.XTick at 0x130307a20>,\n",
       "  <matplotlib.axis.XTick at 0x12f58bbe0>,\n",
       "  <matplotlib.axis.XTick at 0x12f5b5748>,\n",
       "  <matplotlib.axis.XTick at 0x12f5b5b38>,\n",
       "  <matplotlib.axis.XTick at 0x12f5be898>,\n",
       "  <matplotlib.axis.XTick at 0x12f5be6d8>,\n",
       "  <matplotlib.axis.XTick at 0x12f5beac8>,\n",
       "  <matplotlib.axis.XTick at 0x12f4a7940>],\n",
       " <a list of 17 Text xticklabel objects>)"
      ]
     },
     "execution_count": 453,
     "metadata": {},
     "output_type": "execute_result"
    },
    {
     "data": {
      "image/png": "[encoded data removed]",
      "text/plain": [
       "<Figure size 432x288 with 1 Axes>"
      ]
     },
     "metadata": {},
     "output_type": "display_data"
    }
   ],
   "source": [
    "# CVR by countries\n",
    "# control\n",
    "a = test[test['test']==0].groupby(['country','conversion']).count()['user_id']\n",
    "b = list((a[a.index.labels[1]==0])) # no purchase\n",
    "c = list((a[a.index.labels[1]==1])) # purchase\n",
    "d = pd.DataFrame([c[i]/(b[i]+c[i]) for i in range(0, len(c))])\n",
    "d['country'] = a.index.levels[0]\n",
    "\n",
    "# experimental\n",
    "a = test[test['test']==1].groupby(['country','conversion']).count()['user_id']\n",
    "b = list((a[a.index.labels[1]==0])) # no purchase\n",
    "c = list((a[a.index.labels[1]==1])) # purchase\n",
    "dd = pd.DataFrame([c[i]/(b[i]+c[i]) for i in range(0, len(c))])\n",
    "dd['country'] = a.index.levels[0]\n",
    "\n",
    "\n",
    "f = pd.merge(d,dd,left_on='country',right_on='country',how='outer')\n",
    "f.columns = ['control','country','experimental']\n",
    "\n",
    "f[['control','experimental']].plot.bar()\n",
    "plt.xticks(np.arange(0,17), f.country)\n",
    "\n"
   ]
  },
  {
   "cell_type": "markdown",
   "metadata": {},
   "source": [
    "If we look at cvr by countries, we will see there is not experimental in Spain as Spain team is already using local translator. In face,  out of the 16 countries, 8 of them experiences enhancement in cvr in experimental group while 8 did not. Yet, the difference is not noticeably differenty. Please refer to the table below"
   ]
  },
  {
   "cell_type": "code",
   "execution_count": 459,
   "metadata": {},
   "outputs": [
    {
     "data": {
      "text/html": [
       "<div>\n",
       "<style scoped>\n",
       "    .dataframe tbody tr th:only-of-type {\n",
       "        vertical-align: middle;\n",
       "    }\n",
       "\n",
       "    .dataframe tbody tr th {\n",
       "        vertical-align: top;\n",
       "    }\n",
       "\n",
       "    .dataframe thead th {\n",
       "        text-align: right;\n",
       "    }\n",
       "</style>\n",
       "<table border=\"1\" class=\"dataframe\">\n",
       "  <thead>\n",
       "    <tr style=\"text-align: right;\">\n",
       "      <th></th>\n",
       "      <th>control</th>\n",
       "      <th>country</th>\n",
       "      <th>experimental</th>\n",
       "      <th>var</th>\n",
       "    </tr>\n",
       "  </thead>\n",
       "  <tbody>\n",
       "    <tr>\n",
       "      <th>15</th>\n",
       "      <td>0.012048</td>\n",
       "      <td>Uruguay</td>\n",
       "      <td>0.012907</td>\n",
       "      <td>7.125571</td>\n",
       "    </tr>\n",
       "    <tr>\n",
       "      <th>2</th>\n",
       "      <td>0.048107</td>\n",
       "      <td>Chile</td>\n",
       "      <td>0.051295</td>\n",
       "      <td>6.626552</td>\n",
       "    </tr>\n",
       "    <tr>\n",
       "      <th>11</th>\n",
       "      <td>0.046796</td>\n",
       "      <td>Panama</td>\n",
       "      <td>0.049370</td>\n",
       "      <td>5.502136</td>\n",
       "    </tr>\n",
       "    <tr>\n",
       "      <th>4</th>\n",
       "      <td>0.052256</td>\n",
       "      <td>Costa Rica</td>\n",
       "      <td>0.054738</td>\n",
       "      <td>4.749722</td>\n",
       "    </tr>\n",
       "    <tr>\n",
       "      <th>9</th>\n",
       "      <td>0.049495</td>\n",
       "      <td>Mexico</td>\n",
       "      <td>0.051186</td>\n",
       "      <td>3.417926</td>\n",
       "    </tr>\n",
       "    <tr>\n",
       "      <th>10</th>\n",
       "      <td>0.052647</td>\n",
       "      <td>Nicaragua</td>\n",
       "      <td>0.054177</td>\n",
       "      <td>2.905737</td>\n",
       "    </tr>\n",
       "    <tr>\n",
       "      <th>12</th>\n",
       "      <td>0.048493</td>\n",
       "      <td>Paraguay</td>\n",
       "      <td>0.049229</td>\n",
       "      <td>1.517645</td>\n",
       "    </tr>\n",
       "    <tr>\n",
       "      <th>13</th>\n",
       "      <td>0.049914</td>\n",
       "      <td>Peru</td>\n",
       "      <td>0.050604</td>\n",
       "      <td>1.382839</td>\n",
       "    </tr>\n",
       "    <tr>\n",
       "      <th>5</th>\n",
       "      <td>0.049154</td>\n",
       "      <td>Ecuador</td>\n",
       "      <td>0.048988</td>\n",
       "      <td>-0.336468</td>\n",
       "    </tr>\n",
       "    <tr>\n",
       "      <th>16</th>\n",
       "      <td>0.050344</td>\n",
       "      <td>Venezuela</td>\n",
       "      <td>0.048978</td>\n",
       "      <td>-2.712090</td>\n",
       "    </tr>\n",
       "    <tr>\n",
       "      <th>3</th>\n",
       "      <td>0.052089</td>\n",
       "      <td>Colombia</td>\n",
       "      <td>0.050571</td>\n",
       "      <td>-2.915221</td>\n",
       "    </tr>\n",
       "    <tr>\n",
       "      <th>1</th>\n",
       "      <td>0.049369</td>\n",
       "      <td>Bolivia</td>\n",
       "      <td>0.047901</td>\n",
       "      <td>-2.974315</td>\n",
       "    </tr>\n",
       "    <tr>\n",
       "      <th>7</th>\n",
       "      <td>0.050643</td>\n",
       "      <td>Guatemala</td>\n",
       "      <td>0.048647</td>\n",
       "      <td>-3.940669</td>\n",
       "    </tr>\n",
       "    <tr>\n",
       "      <th>8</th>\n",
       "      <td>0.050906</td>\n",
       "      <td>Honduras</td>\n",
       "      <td>0.047540</td>\n",
       "      <td>-6.612103</td>\n",
       "    </tr>\n",
       "    <tr>\n",
       "      <th>0</th>\n",
       "      <td>0.015071</td>\n",
       "      <td>Argentina</td>\n",
       "      <td>0.013725</td>\n",
       "      <td>-8.928178</td>\n",
       "    </tr>\n",
       "    <tr>\n",
       "      <th>6</th>\n",
       "      <td>0.053554</td>\n",
       "      <td>El Salvador</td>\n",
       "      <td>0.047947</td>\n",
       "      <td>-10.470081</td>\n",
       "    </tr>\n",
       "    <tr>\n",
       "      <th>14</th>\n",
       "      <td>0.079719</td>\n",
       "      <td>Spain</td>\n",
       "      <td>NaN</td>\n",
       "      <td>NaN</td>\n",
       "    </tr>\n",
       "  </tbody>\n",
       "</table>\n",
       "</div>"
      ],
      "text/plain": [
       "     control      country  experimental        var\n",
       "15  0.012048      Uruguay      0.012907   7.125571\n",
       "2   0.048107        Chile      0.051295   6.626552\n",
       "11  0.046796       Panama      0.049370   5.502136\n",
       "4   0.052256   Costa Rica      0.054738   4.749722\n",
       "9   0.049495       Mexico      0.051186   3.417926\n",
       "10  0.052647    Nicaragua      0.054177   2.905737\n",
       "12  0.048493     Paraguay      0.049229   1.517645\n",
       "13  0.049914         Peru      0.050604   1.382839\n",
       "5   0.049154      Ecuador      0.048988  -0.336468\n",
       "16  0.050344    Venezuela      0.048978  -2.712090\n",
       "3   0.052089     Colombia      0.050571  -2.915221\n",
       "1   0.049369      Bolivia      0.047901  -2.974315\n",
       "7   0.050643    Guatemala      0.048647  -3.940669\n",
       "8   0.050906     Honduras      0.047540  -6.612103\n",
       "0   0.015071    Argentina      0.013725  -8.928178\n",
       "6   0.053554  El Salvador      0.047947 -10.470081\n",
       "14  0.079719        Spain           NaN        NaN"
      ]
     },
     "execution_count": 459,
     "metadata": {},
     "output_type": "execute_result"
    }
   ],
   "source": [
    "f['var'] = (f.experimental / f.control -1)*100\n",
    "f.sort_values('var', ascending=False)"
   ]
  },
  {
   "cell_type": "code",
   "execution_count": 469,
   "metadata": {},
   "outputs": [
    {
     "name": "stderr",
     "output_type": "stream",
     "text": [
      "/Users/wx3land/anaconda3/lib/python3.6/site-packages/ipykernel_launcher.py:1: UserWarning: Boolean Series key will be reindexed to match DataFrame index.\n",
      "  \"\"\"Entry point for launching an IPython kernel.\n",
      "/Users/wx3land/anaconda3/lib/python3.6/site-packages/ipykernel_launcher.py:2: UserWarning: Boolean Series key will be reindexed to match DataFrame index.\n",
      "  \n",
      "/Users/wx3land/anaconda3/lib/python3.6/site-packages/ipykernel_launcher.py:6: UserWarning: Boolean Series key will be reindexed to match DataFrame index.\n",
      "  \n"
     ]
    },
    {
     "name": "stdout",
     "output_type": "stream",
     "text": [
      "Control CVR: 0.04829179055749524\n",
      "Experimental CVR: 0.043411161678422794\n"
     ]
    },
    {
     "name": "stderr",
     "output_type": "stream",
     "text": [
      "/Users/wx3land/anaconda3/lib/python3.6/site-packages/ipykernel_launcher.py:7: UserWarning: Boolean Series key will be reindexed to match DataFrame index.\n",
      "  import sys\n"
     ]
    }
   ],
   "source": [
    "a = test[test['test'] == 0][test['country']!='Spain'][test['conversion']==0].count()['user_id']\n",
    "b = test[test['test'] == 0][test['country']!='Spain'][test['conversion']==1].count()['user_id']\n",
    "c = b/(a+b)\n",
    "print('Control CVR: '+str(c))\n",
    "\n",
    "aa = test[test['test'] == 1][test['country']!='Spain'][test['conversion']==0].count()['user_id']\n",
    "bb = test[test['test'] == 1][test['country']!='Spain'][test['conversion']==1].count()['user_id']\n",
    "cc = bb/(aa+bb)\n",
    "print('Experimental CVR: '+str(cc))"
   ]
  },
  {
   "cell_type": "markdown",
   "metadata": {},
   "source": [
    "If we neglect the users in Spain, despite control cvr is still higher than experimental cvr, but the difference is reduced."
   ]
  },
  {
   "cell_type": "markdown",
   "metadata": {},
   "source": [
    "Now, lets analysis how age can affect the gap in cvr between control and experimental groups.\n",
    "Let's investigate the countries with higher and lower change in cvr betweeen the two groups."
   ]
  },
  {
   "cell_type": "code",
   "execution_count": 519,
   "metadata": {},
   "outputs": [
    {
     "name": "stdout",
     "output_type": "stream",
     "text": [
      "% population younger than age of 45: 0.9873406540993271\n",
      "% population younger than age of 45: 0.012659345900672825\n"
     ]
    }
   ],
   "source": [
    "# age distribution in all countries \n",
    "a = pd.DataFrame(test.groupby('age').count()['user_id'])\n",
    "a['age'] = a.index\n",
    "print('% population younger than age of 45: '+str(sum(a.user_id[a['age']<=45])/sum(a.user_id)))\n",
    "print('% population younger than age of 45: '+str(sum(a.user_id[a['age']>45])/sum(a.user_id)))"
   ]
  },
  {
   "cell_type": "code",
   "execution_count": 520,
   "metadata": {},
   "outputs": [
    {
     "name": "stdout",
     "output_type": "stream",
     "text": [
      "% population younger than age of 45: 0.9878899082568807\n",
      "% population younger than age of 45: 0.012110091743119266\n"
     ]
    }
   ],
   "source": [
    "# age distribution in countries with lower experimental CVR.\n",
    "a = pd.DataFrame(test[test['country']=='El Salvador'].groupby('age').count()['user_id'])\n",
    "a['age'] = a.index\n",
    "print('% population younger than age of 45: '+str(sum(a.user_id[a['age']<=45])/sum(a.user_id)))\n",
    "print('% population younger than age of 45: '+str(sum(a.user_id[a['age']>45])/sum(a.user_id)))"
   ]
  },
  {
   "cell_type": "code",
   "execution_count": 521,
   "metadata": {},
   "outputs": [
    {
     "name": "stdout",
     "output_type": "stream",
     "text": [
      "% population younger than age of 45: 0.9869375907111756\n",
      "% population younger than age of 45: 0.013062409288824383\n"
     ]
    }
   ],
   "source": [
    "a = pd.DataFrame(test[test['country']=='Uruguay'].groupby('age').count()['user_id'])\n",
    "a['age'] = a.index\n",
    "print('% population younger than age of 45: '+str(sum(a.user_id[a['age']<=45])/sum(a.user_id)))\n",
    "print('% population younger than age of 45: '+str(sum(a.user_id[a['age']>45])/sum(a.user_id)))"
   ]
  },
  {
   "cell_type": "markdown",
   "metadata": {},
   "source": [
    "Age is not sufficient in explain the variation between control and expermential group in these countries."
   ]
  },
  {
   "cell_type": "code",
   "execution_count": 523,
   "metadata": {},
   "outputs": [
    {
     "name": "stdout",
     "output_type": "stream",
     "text": [
      "% population of Female: 0.41597643458233874\n",
      "% population of Female: 0.5840235654176612\n"
     ]
    }
   ],
   "source": [
    "# sex distribution in countries with lower experimental CVR.\n",
    "a = pd.DataFrame(test.groupby('sex').count()['user_id'])\n",
    "a['sex'] = a.index\n",
    "\n",
    "print('% population of Female: '+str(sum(a.user_id[a['sex']=='F'])/sum(a.user_id)))\n",
    "print('% population of Female: '+str(sum(a.user_id[a['sex']=='M'])/sum(a.user_id)))"
   ]
  },
  {
   "cell_type": "code",
   "execution_count": 505,
   "metadata": {},
   "outputs": [
    {
     "name": "stdout",
     "output_type": "stream",
     "text": [
      "% population of Female: 0.4132110091743119\n",
      "% population of Female: 0.586788990825688\n"
     ]
    }
   ],
   "source": [
    "# sex distribution in countries with lower experimental CVR.\n",
    "a = pd.DataFrame(test[test['country']=='El Salvador'].groupby('sex').count()['user_id'])\n",
    "a['sex'] = a.index\n",
    "\n",
    "print('% population of Female: '+str(sum(a.user_id[a['sex']=='F'])/sum(a.user_id)))\n",
    "print('% population of Female: '+str(sum(a.user_id[a['sex']=='M'])/sum(a.user_id)))"
   ]
  },
  {
   "cell_type": "code",
   "execution_count": 506,
   "metadata": {},
   "outputs": [
    {
     "name": "stdout",
     "output_type": "stream",
     "text": [
      "% population of Female: 0.4296081277213353\n",
      "% population of Female: 0.5703918722786647\n"
     ]
    }
   ],
   "source": [
    "# sex distribution in countries with lower experimental CVR.\n",
    "a = pd.DataFrame(test[test['country']=='Uruguay'].groupby('sex').count()['user_id'])\n",
    "a['sex'] = a.index\n",
    "\n",
    "print('% population of Female: '+str(sum(a.user_id[a['sex']=='F'])/sum(a.user_id)))\n",
    "print('% population of Female: '+str(sum(a.user_id[a['sex']=='M'])/sum(a.user_id)))"
   ]
  },
  {
   "cell_type": "markdown",
   "metadata": {},
   "source": [
    "Geneder is not sufficient in explaining the variation as well."
   ]
  },
  {
   "cell_type": "code",
   "execution_count": null,
   "metadata": {},
   "outputs": [],
   "source": []
  }
 ],
 "metadata": {
  "kernelspec": {
   "display_name": "Python 3",
   "language": "python",
   "name": "python3"
  },
  "language_info": {
   "codemirror_mode": {
    "name": "ipython",
    "version": 3
   },
   "file_extension": ".py",
   "mimetype": "text/x-python",
   "name": "python",
   "nbconvert_exporter": "python",
   "pygments_lexer": "ipython3",
   "version": "3.6.5"
  }
 },
 "nbformat": 4,
 "nbformat_minor": 2
}
